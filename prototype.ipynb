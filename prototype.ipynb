{
 "cells": [
  {
   "cell_type": "code",
   "execution_count": 1,
   "outputs": [],
   "source": [
    "# Import the necessary libraries\n",
    "import pandas as pd\n",
    "from sklearn.model_selection import train_test_split\n",
    "from sklearn.feature_extraction.text import TfidfVectorizer\n",
    "from sklearn.linear_model import LogisticRegression\n",
    "from sklearn.metrics import accuracy_score, confusion_matrix\n",
    "from nltk.corpus import stopwords\n",
    "from nltk.stem import WordNetLemmatizer\n",
    "import re\n",
    "import nltk\n",
    "\n"
   ],
   "metadata": {
    "collapsed": false,
    "ExecuteTime": {
     "end_time": "2023-07-17T11:07:16.445052Z",
     "start_time": "2023-07-17T11:07:14.469809700Z"
    }
   }
  },
  {
   "cell_type": "code",
   "execution_count": 2,
   "outputs": [
    {
     "name": "stderr",
     "output_type": "stream",
     "text": [
      "[nltk_data] Downloading package stopwords to\n",
      "[nltk_data]     C:\\Users\\super\\AppData\\Roaming\\nltk_data...\n",
      "[nltk_data]   Package stopwords is already up-to-date!\n",
      "[nltk_data] Downloading package wordnet to\n",
      "[nltk_data]     C:\\Users\\super\\AppData\\Roaming\\nltk_data...\n",
      "[nltk_data]   Package wordnet is already up-to-date!\n",
      "[nltk_data] Downloading package punkt to\n",
      "[nltk_data]     C:\\Users\\super\\AppData\\Roaming\\nltk_data...\n",
      "[nltk_data]   Package punkt is already up-to-date!\n"
     ]
    },
    {
     "data": {
      "text/plain": "True"
     },
     "execution_count": 2,
     "metadata": {},
     "output_type": "execute_result"
    }
   ],
   "source": [
    "# Download the NLTK stop words and tokenizer\n",
    "nltk.download('stopwords')\n",
    "nltk.download('wordnet')\n",
    "nltk.download('punkt')"
   ],
   "metadata": {
    "collapsed": false,
    "ExecuteTime": {
     "end_time": "2023-07-17T11:07:29.876772500Z",
     "start_time": "2023-07-17T11:07:28.549497700Z"
    }
   }
  },
  {
   "cell_type": "code",
   "execution_count": 3,
   "outputs": [
    {
     "name": "stderr",
     "output_type": "stream",
     "text": [
      "C:\\Users\\super\\AppData\\Local\\Temp\\ipykernel_32588\\3130077934.py:2: DtypeWarning: Columns (0,1,2,3,4,5,6,7,8,9,10,12,13,14) have mixed types. Specify dtype option on import or set low_memory=False.\n",
      "  df = pd.read_csv('fake_news_corpus.csv', nrows=1000000)\n"
     ]
    },
    {
     "data": {
      "text/plain": "  Unnamed: 0  id                 domain        type  \\\n0          0   2          express.co.uk       rumor   \n1          1   6     barenakedislam.com        hate   \n2          2   7     barenakedislam.com        hate   \n3          3   8     barenakedislam.com        hate   \n4          4   9     barenakedislam.com        hate   \n5          5  10     barenakedislam.com        hate   \n6          6  11  blackagendareport.com  unreliable   \n7          7  13  blackagendareport.com  unreliable   \n8          8  14  blackagendareport.com  unreliable   \n9          9  15  blackagendareport.com  unreliable   \n\n                                                 url  \\\n0  https://www.express.co.uk/news/science/738402/...   \n1  http://barenakedislam.com/category/donald-trum...   \n2  http://barenakedislam.com/category/donald-trum...   \n3  http://barenakedislam.com/2017/12/24/more-winn...   \n4  http://barenakedislam.com/2017/12/25/oh-trump-...   \n5  http://barenakedislam.com/2017/12/27/following...   \n6  https://blackagendareport.com/un-backed-police...   \n7  https://blackagendareport.com/articlelist/inte...   \n8  https://blackagendareport.com/articlelist/inte...   \n9  https://blackagendareport.com/zambia-must-clar...   \n\n                                             content  \\\n0  Life is an illusion, at least on a quantum lev...   \n1  Unfortunately, he hasn’t yet attacked her for ...   \n2  The Los Angeles Police Department has been den...   \n3  The White House has decided to quietly withdra...   \n4  “The time has come to cut off the tongues of t...   \n5  The Central American nation and six other stat...   \n6  UN-Backed Police Massacred Haitians With Impun...   \n7  It should have come as no surprise that the sa...   \n8  “When the police finally left the campus, arou...   \n9  Zambia Must Clarify Whether It Will Host Israe...   \n\n                   scraped_at                 inserted_at  \\\n0  2018-01-25 16:17:44.789555  2018-02-02 01:19:41.756632   \n1  2018-01-25 16:17:44.789555  2018-02-02 01:19:41.756632   \n2  2018-01-25 16:17:44.789555  2018-02-02 01:19:41.756632   \n3  2018-01-25 16:17:44.789555  2018-02-02 01:19:41.756632   \n4  2018-01-25 16:17:44.789555  2018-02-02 01:19:41.756632   \n5  2018-01-25 16:17:44.789555  2018-02-02 01:19:41.756632   \n6  2018-01-25 16:17:44.789555  2018-02-02 01:19:41.756632   \n7  2018-01-25 16:17:44.789555  2018-02-02 01:19:41.756632   \n8  2018-01-25 16:17:44.789555  2018-02-02 01:19:41.756632   \n9  2018-01-25 16:17:44.789555  2018-02-02 01:19:41.756632   \n\n                   updated_at  \\\n0  2018-02-02 01:19:41.756664   \n1  2018-02-02 01:19:41.756664   \n2  2018-02-02 01:19:41.756664   \n3  2018-02-02 01:19:41.756664   \n4  2018-02-02 01:19:41.756664   \n5  2018-02-02 01:19:41.756664   \n6  2018-02-02 01:19:41.756664   \n7  2018-02-02 01:19:41.756664   \n8  2018-02-02 01:19:41.756664   \n9  2018-02-02 01:19:41.756664   \n\n                                               title  \\\n0  Is life an ILLUSION? Researchers prove 'realit...   \n1                                       Donald Trump   \n2                                       Donald Trump   \n3  MORE WINNING! Israeli intelligence source, DEB...   \n4  “Oh, Trump, you coward, you just wait, we will...   \n5  Following Guatemala’s decision to move its emb...   \n6  UN-Backed Police Massacred Haitians With Impunity   \n7                                Black Agenda Report   \n8                                Black Agenda Report   \n9  Zambia Must Clarify Whether It Will Host Israe...   \n\n                                             authors  keywords meta_keywords  \\\n0                                        Sean Martin       NaN          ['']   \n1  Linda Rivera, Conrad Calvano, Az Gal, Lincoln ...       NaN          ['']   \n2  Linda Rivera, Conrad Calvano, Az Gal, Lincoln ...       NaN          ['']   \n3  Cleavis Nowell, Cleavisnowell, Clarence J. Fei...       NaN          ['']   \n4  F.N. Lehner, Don Spilman, Clarence J. Feinour,...       NaN          ['']   \n5  Pamela Jeffersons, Cleavis Nowell, Cleavisnowe...       NaN          ['']   \n6  Akinyele Umoja, Glen Ford, Bar Executive Edito...       NaN          ['']   \n7  Nellie Bailey, Glen Ford, Margaret Kimberley, ...       NaN          ['']   \n8  Ann Garrison, Bar Contributor, Ken Morgan, Jem...       NaN          ['']   \n9  Glen Ford, Bar Executive Editor, Margaret Kimb...       NaN          ['']   \n\n                                    meta_description tags  summary  source  \n0  THE UNIVERSE ceases to exist when we are not l...  NaN      NaN     NaN  \n1                                                NaN  NaN      NaN     NaN  \n2                                                NaN  NaN      NaN     NaN  \n3                                                NaN  NaN      NaN     NaN  \n4                                                NaN  NaN      NaN     NaN  \n5                                                NaN  NaN      NaN     NaN  \n6  “When the police finally left the campus, arou...  NaN      NaN     NaN  \n7                                                NaN  NaN      NaN     NaN  \n8                                                NaN  NaN      NaN     NaN  \n9  “Israel since 1948 has collaborated with the s...  NaN      NaN     NaN  ",
      "text/html": "<div>\n<style scoped>\n    .dataframe tbody tr th:only-of-type {\n        vertical-align: middle;\n    }\n\n    .dataframe tbody tr th {\n        vertical-align: top;\n    }\n\n    .dataframe thead th {\n        text-align: right;\n    }\n</style>\n<table border=\"1\" class=\"dataframe\">\n  <thead>\n    <tr style=\"text-align: right;\">\n      <th></th>\n      <th>Unnamed: 0</th>\n      <th>id</th>\n      <th>domain</th>\n      <th>type</th>\n      <th>url</th>\n      <th>content</th>\n      <th>scraped_at</th>\n      <th>inserted_at</th>\n      <th>updated_at</th>\n      <th>title</th>\n      <th>authors</th>\n      <th>keywords</th>\n      <th>meta_keywords</th>\n      <th>meta_description</th>\n      <th>tags</th>\n      <th>summary</th>\n      <th>source</th>\n    </tr>\n  </thead>\n  <tbody>\n    <tr>\n      <th>0</th>\n      <td>0</td>\n      <td>2</td>\n      <td>express.co.uk</td>\n      <td>rumor</td>\n      <td>https://www.express.co.uk/news/science/738402/...</td>\n      <td>Life is an illusion, at least on a quantum lev...</td>\n      <td>2018-01-25 16:17:44.789555</td>\n      <td>2018-02-02 01:19:41.756632</td>\n      <td>2018-02-02 01:19:41.756664</td>\n      <td>Is life an ILLUSION? Researchers prove 'realit...</td>\n      <td>Sean Martin</td>\n      <td>NaN</td>\n      <td>['']</td>\n      <td>THE UNIVERSE ceases to exist when we are not l...</td>\n      <td>NaN</td>\n      <td>NaN</td>\n      <td>NaN</td>\n    </tr>\n    <tr>\n      <th>1</th>\n      <td>1</td>\n      <td>6</td>\n      <td>barenakedislam.com</td>\n      <td>hate</td>\n      <td>http://barenakedislam.com/category/donald-trum...</td>\n      <td>Unfortunately, he hasn’t yet attacked her for ...</td>\n      <td>2018-01-25 16:17:44.789555</td>\n      <td>2018-02-02 01:19:41.756632</td>\n      <td>2018-02-02 01:19:41.756664</td>\n      <td>Donald Trump</td>\n      <td>Linda Rivera, Conrad Calvano, Az Gal, Lincoln ...</td>\n      <td>NaN</td>\n      <td>['']</td>\n      <td>NaN</td>\n      <td>NaN</td>\n      <td>NaN</td>\n      <td>NaN</td>\n    </tr>\n    <tr>\n      <th>2</th>\n      <td>2</td>\n      <td>7</td>\n      <td>barenakedislam.com</td>\n      <td>hate</td>\n      <td>http://barenakedislam.com/category/donald-trum...</td>\n      <td>The Los Angeles Police Department has been den...</td>\n      <td>2018-01-25 16:17:44.789555</td>\n      <td>2018-02-02 01:19:41.756632</td>\n      <td>2018-02-02 01:19:41.756664</td>\n      <td>Donald Trump</td>\n      <td>Linda Rivera, Conrad Calvano, Az Gal, Lincoln ...</td>\n      <td>NaN</td>\n      <td>['']</td>\n      <td>NaN</td>\n      <td>NaN</td>\n      <td>NaN</td>\n      <td>NaN</td>\n    </tr>\n    <tr>\n      <th>3</th>\n      <td>3</td>\n      <td>8</td>\n      <td>barenakedislam.com</td>\n      <td>hate</td>\n      <td>http://barenakedislam.com/2017/12/24/more-winn...</td>\n      <td>The White House has decided to quietly withdra...</td>\n      <td>2018-01-25 16:17:44.789555</td>\n      <td>2018-02-02 01:19:41.756632</td>\n      <td>2018-02-02 01:19:41.756664</td>\n      <td>MORE WINNING! Israeli intelligence source, DEB...</td>\n      <td>Cleavis Nowell, Cleavisnowell, Clarence J. Fei...</td>\n      <td>NaN</td>\n      <td>['']</td>\n      <td>NaN</td>\n      <td>NaN</td>\n      <td>NaN</td>\n      <td>NaN</td>\n    </tr>\n    <tr>\n      <th>4</th>\n      <td>4</td>\n      <td>9</td>\n      <td>barenakedislam.com</td>\n      <td>hate</td>\n      <td>http://barenakedislam.com/2017/12/25/oh-trump-...</td>\n      <td>“The time has come to cut off the tongues of t...</td>\n      <td>2018-01-25 16:17:44.789555</td>\n      <td>2018-02-02 01:19:41.756632</td>\n      <td>2018-02-02 01:19:41.756664</td>\n      <td>“Oh, Trump, you coward, you just wait, we will...</td>\n      <td>F.N. Lehner, Don Spilman, Clarence J. Feinour,...</td>\n      <td>NaN</td>\n      <td>['']</td>\n      <td>NaN</td>\n      <td>NaN</td>\n      <td>NaN</td>\n      <td>NaN</td>\n    </tr>\n    <tr>\n      <th>5</th>\n      <td>5</td>\n      <td>10</td>\n      <td>barenakedislam.com</td>\n      <td>hate</td>\n      <td>http://barenakedislam.com/2017/12/27/following...</td>\n      <td>The Central American nation and six other stat...</td>\n      <td>2018-01-25 16:17:44.789555</td>\n      <td>2018-02-02 01:19:41.756632</td>\n      <td>2018-02-02 01:19:41.756664</td>\n      <td>Following Guatemala’s decision to move its emb...</td>\n      <td>Pamela Jeffersons, Cleavis Nowell, Cleavisnowe...</td>\n      <td>NaN</td>\n      <td>['']</td>\n      <td>NaN</td>\n      <td>NaN</td>\n      <td>NaN</td>\n      <td>NaN</td>\n    </tr>\n    <tr>\n      <th>6</th>\n      <td>6</td>\n      <td>11</td>\n      <td>blackagendareport.com</td>\n      <td>unreliable</td>\n      <td>https://blackagendareport.com/un-backed-police...</td>\n      <td>UN-Backed Police Massacred Haitians With Impun...</td>\n      <td>2018-01-25 16:17:44.789555</td>\n      <td>2018-02-02 01:19:41.756632</td>\n      <td>2018-02-02 01:19:41.756664</td>\n      <td>UN-Backed Police Massacred Haitians With Impunity</td>\n      <td>Akinyele Umoja, Glen Ford, Bar Executive Edito...</td>\n      <td>NaN</td>\n      <td>['']</td>\n      <td>“When the police finally left the campus, arou...</td>\n      <td>NaN</td>\n      <td>NaN</td>\n      <td>NaN</td>\n    </tr>\n    <tr>\n      <th>7</th>\n      <td>7</td>\n      <td>13</td>\n      <td>blackagendareport.com</td>\n      <td>unreliable</td>\n      <td>https://blackagendareport.com/articlelist/inte...</td>\n      <td>It should have come as no surprise that the sa...</td>\n      <td>2018-01-25 16:17:44.789555</td>\n      <td>2018-02-02 01:19:41.756632</td>\n      <td>2018-02-02 01:19:41.756664</td>\n      <td>Black Agenda Report</td>\n      <td>Nellie Bailey, Glen Ford, Margaret Kimberley, ...</td>\n      <td>NaN</td>\n      <td>['']</td>\n      <td>NaN</td>\n      <td>NaN</td>\n      <td>NaN</td>\n      <td>NaN</td>\n    </tr>\n    <tr>\n      <th>8</th>\n      <td>8</td>\n      <td>14</td>\n      <td>blackagendareport.com</td>\n      <td>unreliable</td>\n      <td>https://blackagendareport.com/articlelist/inte...</td>\n      <td>“When the police finally left the campus, arou...</td>\n      <td>2018-01-25 16:17:44.789555</td>\n      <td>2018-02-02 01:19:41.756632</td>\n      <td>2018-02-02 01:19:41.756664</td>\n      <td>Black Agenda Report</td>\n      <td>Ann Garrison, Bar Contributor, Ken Morgan, Jem...</td>\n      <td>NaN</td>\n      <td>['']</td>\n      <td>NaN</td>\n      <td>NaN</td>\n      <td>NaN</td>\n      <td>NaN</td>\n    </tr>\n    <tr>\n      <th>9</th>\n      <td>9</td>\n      <td>15</td>\n      <td>blackagendareport.com</td>\n      <td>unreliable</td>\n      <td>https://blackagendareport.com/zambia-must-clar...</td>\n      <td>Zambia Must Clarify Whether It Will Host Israe...</td>\n      <td>2018-01-25 16:17:44.789555</td>\n      <td>2018-02-02 01:19:41.756632</td>\n      <td>2018-02-02 01:19:41.756664</td>\n      <td>Zambia Must Clarify Whether It Will Host Israe...</td>\n      <td>Glen Ford, Bar Executive Editor, Margaret Kimb...</td>\n      <td>NaN</td>\n      <td>['']</td>\n      <td>“Israel since 1948 has collaborated with the s...</td>\n      <td>NaN</td>\n      <td>NaN</td>\n      <td>NaN</td>\n    </tr>\n  </tbody>\n</table>\n</div>"
     },
     "execution_count": 3,
     "metadata": {},
     "output_type": "execute_result"
    }
   ],
   "source": [
    "# Load the dataset\n",
    "df = pd.read_csv('fake_news_corpus.csv', nrows=1000000)\n",
    "\n",
    "df.describe()\n",
    "\n",
    "df.head(10)\n"
   ],
   "metadata": {
    "collapsed": false,
    "ExecuteTime": {
     "end_time": "2023-07-17T11:07:51.853757100Z",
     "start_time": "2023-07-17T11:07:32.412005900Z"
    }
   }
  },
  {
   "cell_type": "code",
   "execution_count": 7,
   "outputs": [
    {
     "data": {
      "text/plain": "array(['fake', 'reliable'], dtype=object)"
     },
     "execution_count": 7,
     "metadata": {},
     "output_type": "execute_result"
    }
   ],
   "source": [
    "# Filter relevant columns (content and type)\n",
    "df = df[['content', 'type']]\n",
    "\n",
    "# Remove records with missing data or other types of news that are not 'fake' or 'reliable'\n",
    "df = df.dropna()\n",
    "df = df[(df['type'] == 'fake') | (df['type'] == 'reliable')]\n",
    "\n",
    "df['type'].unique()\n"
   ],
   "metadata": {
    "collapsed": false,
    "ExecuteTime": {
     "end_time": "2023-07-17T11:09:24.148222800Z",
     "start_time": "2023-07-17T11:09:24.073933700Z"
    }
   }
  },
  {
   "cell_type": "code",
   "execution_count": 8,
   "outputs": [
    {
     "name": "stdout",
     "output_type": "stream",
     "text": [
      "Model Accuracy: 0.9555765595463138\n",
      "Confusion Matrix:\n",
      " [[508  32]\n",
      " [ 15 503]]\n"
     ]
    }
   ],
   "source": [
    "# Count the occurrences of each class\n",
    "class_counts = df['type'].value_counts()\n",
    "\n",
    "# Determine the minimum count of the classes\n",
    "min_count = class_counts.min()\n",
    "\n",
    "# Sample an equal number of instances from each class\n",
    "balanced_df = df.groupby('type').apply(lambda x: x.sample(n=min_count, random_state=42)).reset_index(drop=True)\n",
    "\n",
    "# Data Preprocessing\n",
    "stop_words = set(stopwords.words('english'))\n",
    "lemmatizer = WordNetLemmatizer()\n",
    "\n",
    "def clean_text(text):\n",
    "    text = re.sub(r'\\W', ' ', str(text))\n",
    "    text = text.lower()\n",
    "    text = re.sub(r'^br$', ' ', text)\n",
    "    text = re.sub(r'\\s+br\\s+', ' ', text)\n",
    "    text = re.sub(r'\\s+[a-z]\\s+', ' ', text)\n",
    "    text = re.sub(r'^b\\s+', '', text)\n",
    "    text = re.sub(r'\\s+', ' ', text)\n",
    "    return text\n",
    "\n",
    "def lemmatize_text(text):\n",
    "    words = nltk.word_tokenize(text)\n",
    "    words = [lemmatizer.lemmatize(word) for word in words if word not in stop_words]\n",
    "    return ' '.join(words)\n",
    "\n",
    "balanced_df['clean_content'] = balanced_df['content'].apply(lambda x: clean_text(x))\n",
    "balanced_df['clean_content'] = balanced_df['clean_content'].apply(lambda x: lemmatize_text(x))\n",
    "\n",
    "# Split the balanced data into train and test sets\n",
    "X_train, X_test, y_train, y_test = train_test_split(balanced_df['clean_content'], balanced_df['type'], test_size=0.2, random_state=42)\n",
    "\n",
    "# Initialize a TfidfVectorizer\n",
    "tfidf_vectorizer = TfidfVectorizer(stop_words='english', max_df=0.7)\n",
    "\n",
    "# Fit and transform the training set, transform the test set\n",
    "tfidf_train = tfidf_vectorizer.fit_transform(X_train)\n",
    "tfidf_test = tfidf_vectorizer.transform(X_test)\n",
    "\n",
    "# Initialize a LogisticRegression classifier\n",
    "classifier = LogisticRegression()\n",
    "\n",
    "# Fit the classifier with the training data\n",
    "classifier.fit(tfidf_train, y_train)\n",
    "\n",
    "# Predict on the test set\n",
    "predictions = classifier.predict(tfidf_test)\n",
    "\n",
    "# Calculate the accuracy score\n",
    "accuracy = accuracy_score(y_test, predictions)\n",
    "\n",
    "print('Model Accuracy:', accuracy)\n",
    "\n",
    "# Show the confusion matrix\n",
    "confusion_mat = confusion_matrix(y_test, predictions)\n",
    "print('Confusion Matrix:\\n', confusion_mat)"
   ],
   "metadata": {
    "collapsed": false,
    "ExecuteTime": {
     "end_time": "2023-07-17T11:09:55.136121400Z",
     "start_time": "2023-07-17T11:09:36.937056500Z"
    }
   }
  },
  {
   "cell_type": "code",
   "execution_count": null,
   "outputs": [],
   "source": [],
   "metadata": {
    "collapsed": false
   }
  }
 ],
 "metadata": {
  "kernelspec": {
   "display_name": "Python 3",
   "language": "python",
   "name": "python3"
  },
  "language_info": {
   "codemirror_mode": {
    "name": "ipython",
    "version": 2
   },
   "file_extension": ".py",
   "mimetype": "text/x-python",
   "name": "python",
   "nbconvert_exporter": "python",
   "pygments_lexer": "ipython2",
   "version": "2.7.6"
  }
 },
 "nbformat": 4,
 "nbformat_minor": 0
}
